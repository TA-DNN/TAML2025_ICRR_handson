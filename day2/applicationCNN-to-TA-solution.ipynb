{
 "cells": [
  {
   "cell_type": "markdown",
   "metadata": {},
   "source": [
    "# Basic Hands-On 2: Neural networks for regression - simple energy reconstruction with TA\n",
    "\n",
    "We trained a simple model yesterday for the energy reconstruction from TA SD simulation. Today we will revise this task and train one of the proposed architectures we saw today to estimate the energy. No need for visualizing the data today.\n"
   ]
  },
  {
   "cell_type": "markdown",
   "metadata": {},
   "source": [
    "### 1. Load data from ascii file \n",
    "\n",
    "We load the data as we did before and normalize the input features."
   ]
  },
  {
   "cell_type": "code",
   "execution_count": 1,
   "metadata": {},
   "outputs": [],
   "source": [
    "import numpy as np\n",
    "import matplotlib.pyplot as plt\n",
    "import torch\n",
    "from sklearn.model_selection import train_test_split\n",
    "import torch.nn as nn\n",
    "import torch.optim as optim\n",
    "from torch.utils.data import Dataset, DataLoader\n",
    "from tqdm import tqdm\n",
    "from IPython.display import display\n",
    "\n",
    "# Set device (GPU if available, mps on Mac, else CPU)\n",
    "if torch.cuda.is_available():\n",
    "    device = torch.device(\"cuda\")\n",
    "elif torch.backends.mps.is_available():\n",
    "    device = torch.device(\"mps\")\n",
    "else:\n",
    "    device = torch.device(\"cpu\")\n"
   ]
  },
  {
   "cell_type": "code",
   "execution_count": 2,
   "metadata": {},
   "outputs": [],
   "source": [
    "class CosmicRayDataset(Dataset):\n",
    "    def __init__(self, X_data, y_data):\n",
    "        # Store the input features (X_data) and target values (y_data)\n",
    "        self.X_data = X_data\n",
    "        self.y_data = y_data\n",
    "\n",
    "    def __len__(self):\n",
    "        # Return the total number of samples in the dataset\n",
    "        return len(self.X_data)\n",
    "\n",
    "    def __getitem__(self, index):\n",
    "        # Retrieve a single sample at the given index\n",
    "        X_sample = self.X_data[index]\n",
    "        y_sample = self.y_data[index]\n",
    "        # return torch.tensor(X_sample, dtype=torch.float32), torch.tensor(y_sample, dtype=torch.float32)\n",
    "        return X_sample, y_sample"
   ]
  },
  {
   "cell_type": "code",
   "execution_count": 3,
   "metadata": {},
   "outputs": [],
   "source": [
    "# Load data again in case some variables have been overwritten\n",
    "data_total_signal = np.loadtxt(\"../day1/total_signal_prot.txt\", comments=\"#\", dtype=np.float32)\n",
    "data_arrival_times = np.loadtxt(\"../day1/arrival_times_prot.txt\", comments=\"#\", dtype=np.float32)"
   ]
  },
  {
   "cell_type": "code",
   "execution_count": 4,
   "metadata": {},
   "outputs": [],
   "source": [
    "# Store data in a dictionary\n",
    "data = dict()\n",
    "data[\"energy\"] = data_total_signal[:, 1]\n",
    "data[\"shower_axis\"] = data_total_signal[:, 2:5]\n",
    "data[\"total_signal\"] = data_total_signal[:, 5:].reshape(-1, 7, 7)\n",
    "data[\"arrival_times\"] = data_arrival_times[:, 5:].reshape(-1, 7, 7)\n",
    "\n",
    "data[\"total_signal\"] = (data[\"total_signal\"] - data[\"total_signal\"].min()) / (data[\"total_signal\"].max() - data[\"total_signal\"].min())\n",
    "data[\"arrival_times\"] = (data[\"arrival_times\"] - data[\"arrival_times\"].min()) / (data[\"arrival_times\"].max() - data[\"arrival_times\"].min())"
   ]
  },
  {
   "cell_type": "code",
   "execution_count": 5,
   "metadata": {},
   "outputs": [
    {
     "data": {
      "text/plain": [
       "(51653, 7, 7)"
      ]
     },
     "execution_count": 5,
     "metadata": {},
     "output_type": "execute_result"
    }
   ],
   "source": [
    "data[\"total_signal\"].shape"
   ]
  },
  {
   "cell_type": "code",
   "execution_count": 6,
   "metadata": {},
   "outputs": [],
   "source": [
    "# Reshape total_signal and arrival_time into 2D grids\n",
    "total_signal = torch.tensor(data[\"total_signal\"], dtype=torch.float32).to(device)  # [batch, 7, 7]\n",
    "arrival_time = torch.tensor(data[\"arrival_times\"], dtype=torch.float32).to(device)  # [batch, 7, 7]\n",
    "energy = torch.tensor(data[\"energy\"], dtype=torch.float32).to(device)\n",
    "\n",
    "# Combine them into a 2-channel tensor\n",
    "combined_features = torch.stack((total_signal, arrival_time), dim=1)  # Shape: [batch, 2, 7, 7]\n",
    "\n",
    "# Split into training and test sets\n",
    "X_train, X_test, y_train, y_test = train_test_split(combined_features, energy, test_size=0.2, random_state=42)\n",
    "\n",
    "# Reshape the data from (batch_size, 98) -> (batch_size, 2, 7, 7)\n",
    "X_train_cnn = X_train.view(-1, 2, 7, 7)\n",
    "X_test_cnn = X_test.view(-1, 2, 7, 7)\n",
    "\n",
    "# Update DataLoader with new shapes\n",
    "train_dataset = CosmicRayDataset(X_train_cnn, y_train)\n",
    "test_dataset = CosmicRayDataset(X_test_cnn, y_test)\n",
    "\n",
    "train_loader = DataLoader(train_dataset, batch_size=64, shuffle=True)\n",
    "test_loader = DataLoader(test_dataset, batch_size=64, shuffle=False)"
   ]
  },
  {
   "cell_type": "markdown",
   "metadata": {},
   "source": [
    "### 2.  Train and evalulate the model\n",
    "\n",
    "We are familiar with this step from the previous exercise and will simply take the same model for regression. We use the function from utils and modify it for regression."
   ]
  },
  {
   "cell_type": "code",
   "execution_count": 7,
   "metadata": {},
   "outputs": [],
   "source": [
    "def training_monitor(\n",
    "    device,\n",
    "    model,\n",
    "    optimizer,\n",
    "    criterion,\n",
    "    num_epochs,\n",
    "    trainloader,\n",
    "    testloader,\n",
    "    plot_interval=1,\n",
    "):\n",
    "\n",
    "    train_losses = []\n",
    "    val_losses = []\n",
    "\n",
    "    # Set up a single plot for loss\n",
    "    fig, ax1 = plt.subplots(figsize=(10, 4))\n",
    "    pbar = tqdm(total=num_epochs, leave=True)\n",
    "\n",
    "    hdisplay_img = display(display_id=True)\n",
    "    hdisplay_pbar = display(display_id=True)\n",
    "    title = f\"|{'Epoch':^20}|{'Train loss':^20}|{'Validation loss':^20}|\"\n",
    "    print(title)\n",
    "    print(\"_\" * len(title))\n",
    "\n",
    "    for epoch in range(num_epochs):\n",
    "        # Step 3: Training phase\n",
    "        model.train()\n",
    "        running_loss = 0.0\n",
    "        for inputs, labels in trainloader:\n",
    "            inputs, labels = inputs.to(device), labels.to(device)\n",
    "            optimizer.zero_grad()\n",
    "            outputs = model(inputs)\n",
    "            loss = criterion(outputs, labels)\n",
    "            loss.backward()\n",
    "            optimizer.step()\n",
    "            running_loss += loss.item()\n",
    "\n",
    "        train_loss = running_loss / len(trainloader)\n",
    "        train_losses.append(train_loss)\n",
    "\n",
    "        # Step 4: Validation phase\n",
    "        model.eval()\n",
    "        val_loss = 0.0\n",
    "        with torch.no_grad():\n",
    "            for inputs, labels in testloader:\n",
    "                inputs, labels = inputs.to(device), labels.to(device)\n",
    "                outputs = model(inputs)\n",
    "                loss = criterion(outputs, labels)\n",
    "                val_loss += loss.item()\n",
    "\n",
    "        avg_val_loss = val_loss / len(testloader)\n",
    "        val_losses.append(avg_val_loss)\n",
    "\n",
    "        # tqdm progress bar\n",
    "        pbar.set_description(f\"Epoch {epoch+1}/{num_epochs}\")\n",
    "        pbar.update()\n",
    "\n",
    "        # Plotting updates every `plot_interval` epochs\n",
    "        if (epoch + 1) % plot_interval == 0:\n",
    "            # Clear the previous plot\n",
    "            ax1.clear()\n",
    "\n",
    "            # Plot training and validation loss\n",
    "            ax1.plot(range(1, epoch + 2), train_losses, \"b-\", label=\"Train Loss\")\n",
    "            ax1.plot(range(1, epoch + 2), val_losses, \"r-\", label=\"Val Loss\")\n",
    "            ax1.set_xlabel(\"Epoch\")\n",
    "            ax1.set_ylabel(\"Loss\")\n",
    "            ax1.set_title(\"Loss\")\n",
    "            ax1.legend()\n",
    "            ax1.grid(linestyle=\"--\", linewidth=0.5, alpha=0.5)\n",
    "\n",
    "            # Update the plot in the notebook\n",
    "            hdisplay_img.update(fig)\n",
    "\n",
    "        # Print losses at each epoch\n",
    "        print(f\"|{epoch+1:^20}|{train_loss:^20.4f}|{avg_val_loss:^20.4f}|\")\n",
    "\n",
    "    plt.close()"
   ]
  },
  {
   "cell_type": "code",
   "execution_count": 8,
   "metadata": {},
   "outputs": [],
   "source": [
    "# Evaluation function\n",
    "def evaluate_cosmic_ray_model(model, X_test, y_test, criterion):\n",
    "    model.eval()  # Set the model to evaluation mode\n",
    "    with torch.no_grad():  # Disable gradient calculation for evaluation\n",
    "        outputs = model(X_test)\n",
    "        loss = criterion(outputs, y_test)\n",
    "    print(f'Test Loss: {loss.item():.4f}')\n",
    "    return outputs"
   ]
  },
  {
   "cell_type": "markdown",
   "metadata": {},
   "source": [
    "# Exercise: \n",
    "\n",
    "Take one of the presented architectures and train a model for regression. Evaluate its performance with the training monitor function above and plot predicted energies vs. true energy. Discuss the performance and which steps to take for potential improvement."
   ]
  },
  {
   "cell_type": "markdown",
   "metadata": {},
   "source": [
    "This solution tests three different models\n",
    "\n",
    "a) We take the Residual Block CNN and modify it for our example. Input shapes need to be adjusted carfully."
   ]
  },
  {
   "cell_type": "code",
   "execution_count": 9,
   "metadata": {},
   "outputs": [],
   "source": [
    "# Residual Block example\n",
    "class ResidualBlock(nn.Module):\n",
    "    def __init__(self, channels):\n",
    "        super().__init__()\n",
    "        self.block = nn.Sequential(\n",
    "            nn.Conv2d(channels, channels, kernel_size=3, padding=1),\n",
    "            nn.BatchNorm2d(channels),\n",
    "            nn.ReLU(),\n",
    "            nn.Conv2d(channels, channels, kernel_size=3, padding=1),\n",
    "            nn.BatchNorm2d(channels)\n",
    "        )\n",
    "\n",
    "    def forward(self, x):\n",
    "        return x + self.block(x)  # Skip connection\n",
    "\n",
    "# CNN with Residual Blocks\n",
    "class CNNResBlock(nn.Module):\n",
    "    def __init__(self):\n",
    "        super().__init__()\n",
    "        self.model = nn.Sequential(\n",
    "            # Initial convolution layer (accepting 2 channels: arrival time and total charge)\n",
    "            nn.Conv2d(2, 32, kernel_size=3, padding=1),\n",
    "            nn.BatchNorm2d(32), # output of each batch is normalized\n",
    "            nn.ReLU(),\n",
    "            nn.MaxPool2d(2, 2),  # Max Pooling for downsampling\n",
    "\n",
    "            # Residual Block\n",
    "            ResidualBlock(32),\n",
    "\n",
    "            # Another downsampling layer\n",
    "            nn.Conv2d(32, 64, kernel_size=3, padding=1),\n",
    "            nn.BatchNorm2d(64),\n",
    "            nn.ReLU(),\n",
    "            nn.MaxPool2d(2, 2),\n",
    "\n",
    "            # Second Residual Block\n",
    "            ResidualBlock(64),\n",
    "\n",
    "            # Flatten for output prediction\n",
    "            nn.Flatten(),\n",
    "\n",
    "            # Fully connected layers for regression\n",
    "            nn.Linear(64 * 1 * 1, 128),  # Adjusted for 7x7 input size after pooling\n",
    "            nn.ReLU(),\n",
    "            nn.Dropout(0.25),\n",
    "            nn.Linear(128, 1)  # Single output for energy prediction (regression)\n",
    "        )\n",
    "\n",
    "    def forward(self, x):\n",
    "        return self.model(x)"
   ]
  },
  {
   "cell_type": "markdown",
   "metadata": {},
   "source": [
    "adapt training monitor function for regression task"
   ]
  },
  {
   "cell_type": "code",
   "execution_count": 10,
   "metadata": {},
   "outputs": [
    {
     "name": "stderr",
     "output_type": "stream",
     "text": [
      "  0%|          | 0/30 [00:00<?, ?it/s]"
     ]
    },
    {
     "data": {
      "image/png": "[encoded data removed]",
      "text/plain": [
       "<Figure size 1000x400 with 1 Axes>"
      ]
     },
     "metadata": {},
     "output_type": "display_data"
    },
    {
     "data": {},
     "metadata": {},
     "output_type": "display_data"
    },
    {
     "name": "stderr",
     "output_type": "stream",
     "text": [
      "/hetghome/khymon/miniconda3/envs/tadnn/lib/python3.11/site-packages/torch/nn/modules/loss.py:538: UserWarning: Using a target size (torch.Size([64])) that is different to the input size (torch.Size([64, 1])). This will likely lead to incorrect results due to broadcasting. Please ensure they have the same size.\n",
      "  return F.mse_loss(input, target, reduction=self.reduction)\n"
     ]
    },
    {
     "name": "stdout",
     "output_type": "stream",
     "text": [
      "|       Epoch        |     Train loss     |  Validation loss   |\n",
      "________________________________________________________________\n"
     ]
    },
    {
     "name": "stderr",
     "output_type": "stream",
     "text": [
      "/hetghome/khymon/miniconda3/envs/tadnn/lib/python3.11/site-packages/torch/nn/modules/loss.py:538: UserWarning: Using a target size (torch.Size([42])) that is different to the input size (torch.Size([42, 1])). This will likely lead to incorrect results due to broadcasting. Please ensure they have the same size.\n",
      "  return F.mse_loss(input, target, reduction=self.reduction)\n",
      "/hetghome/khymon/miniconda3/envs/tadnn/lib/python3.11/site-packages/torch/nn/modules/loss.py:538: UserWarning: Using a target size (torch.Size([27])) that is different to the input size (torch.Size([27, 1])). This will likely lead to incorrect results due to broadcasting. Please ensure they have the same size.\n",
      "  return F.mse_loss(input, target, reduction=self.reduction)\n",
      "Epoch 1/30:   3%|▎         | 1/30 [00:01<00:52,  1.80s/it]"
     ]
    },
    {
     "name": "stdout",
     "output_type": "stream",
     "text": [
      "|         1          |     8266.0008      |     6796.3663      |\n"
     ]
    },
    {
     "name": "stderr",
     "output_type": "stream",
     "text": [
      "Epoch 2/30:   7%|▋         | 2/30 [00:03<00:47,  1.68s/it]"
     ]
    },
    {
     "name": "stdout",
     "output_type": "stream",
     "text": [
      "|         2          |     7124.0655      |     6798.4674      |\n"
     ]
    },
    {
     "name": "stderr",
     "output_type": "stream",
     "text": [
      "Epoch 3/30:  10%|█         | 3/30 [00:04<00:44,  1.64s/it]"
     ]
    },
    {
     "name": "stdout",
     "output_type": "stream",
     "text": [
      "|         3          |     7123.7936      |     6797.7674      |\n"
     ]
    },
    {
     "name": "stderr",
     "output_type": "stream",
     "text": [
      "Epoch 4/30:  13%|█▎        | 4/30 [00:06<00:42,  1.62s/it]"
     ]
    },
    {
     "name": "stdout",
     "output_type": "stream",
     "text": [
      "|         4          |     7108.1089      |     6811.4118      |\n"
     ]
    },
    {
     "name": "stderr",
     "output_type": "stream",
     "text": [
      "Epoch 5/30:  17%|█▋        | 5/30 [00:08<00:40,  1.61s/it]"
     ]
    },
    {
     "name": "stdout",
     "output_type": "stream",
     "text": [
      "|         5          |     7100.7313      |     6816.1880      |\n"
     ]
    },
    {
     "name": "stderr",
     "output_type": "stream",
     "text": [
      "Epoch 6/30:  20%|██        | 6/30 [00:09<00:39,  1.64s/it]"
     ]
    },
    {
     "name": "stdout",
     "output_type": "stream",
     "text": [
      "|         6          |     7086.7490      |     6805.9685      |\n"
     ]
    },
    {
     "name": "stderr",
     "output_type": "stream",
     "text": [
      "Epoch 7/30:  23%|██▎       | 7/30 [00:11<00:37,  1.62s/it]"
     ]
    },
    {
     "name": "stdout",
     "output_type": "stream",
     "text": [
      "|         7          |     7085.7098      |     6799.2635      |\n"
     ]
    },
    {
     "name": "stderr",
     "output_type": "stream",
     "text": [
      "Epoch 8/30:  27%|██▋       | 8/30 [00:13<00:35,  1.61s/it]"
     ]
    },
    {
     "name": "stdout",
     "output_type": "stream",
     "text": [
      "|         8          |     7085.7184      |     6801.8068      |\n"
     ]
    },
    {
     "name": "stderr",
     "output_type": "stream",
     "text": [
      "Epoch 9/30:  30%|███       | 9/30 [00:14<00:33,  1.61s/it]"
     ]
    },
    {
     "name": "stdout",
     "output_type": "stream",
     "text": [
      "|         9          |     7086.2781      |     6796.4258      |\n"
     ]
    },
    {
     "name": "stderr",
     "output_type": "stream",
     "text": [
      "Epoch 10/30:  33%|███▎      | 10/30 [00:16<00:32,  1.60s/it]"
     ]
    },
    {
     "name": "stdout",
     "output_type": "stream",
     "text": [
      "|         10         |     7080.7063      |     6796.4478      |\n"
     ]
    },
    {
     "name": "stderr",
     "output_type": "stream",
     "text": [
      "Epoch 11/30:  37%|███▋      | 11/30 [00:17<00:30,  1.60s/it]"
     ]
    },
    {
     "name": "stdout",
     "output_type": "stream",
     "text": [
      "|         11         |     7093.6766      |     6800.0376      |\n"
     ]
    },
    {
     "name": "stderr",
     "output_type": "stream",
     "text": [
      "Epoch 12/30:  40%|████      | 12/30 [00:19<00:28,  1.59s/it]"
     ]
    },
    {
     "name": "stdout",
     "output_type": "stream",
     "text": [
      "|         12         |     7078.9509      |     6800.6384      |\n"
     ]
    },
    {
     "name": "stderr",
     "output_type": "stream",
     "text": [
      "Epoch 13/30:  43%|████▎     | 13/30 [00:20<00:27,  1.59s/it]"
     ]
    },
    {
     "name": "stdout",
     "output_type": "stream",
     "text": [
      "|         13         |     7087.6865      |     6802.1723      |\n"
     ]
    },
    {
     "name": "stderr",
     "output_type": "stream",
     "text": [
      "Epoch 14/30:  47%|████▋     | 14/30 [00:22<00:25,  1.59s/it]"
     ]
    },
    {
     "name": "stdout",
     "output_type": "stream",
     "text": [
      "|         14         |     7067.4097      |     6798.7131      |\n"
     ]
    },
    {
     "name": "stderr",
     "output_type": "stream",
     "text": [
      "Epoch 15/30:  50%|█████     | 15/30 [00:24<00:23,  1.59s/it]"
     ]
    },
    {
     "name": "stdout",
     "output_type": "stream",
     "text": [
      "|         15         |     7082.4385      |     6811.8607      |\n"
     ]
    },
    {
     "name": "stderr",
     "output_type": "stream",
     "text": [
      "Epoch 16/30:  53%|█████▎    | 16/30 [00:25<00:22,  1.59s/it]"
     ]
    },
    {
     "name": "stdout",
     "output_type": "stream",
     "text": [
      "|         16         |     7073.6535      |     6798.2970      |\n"
     ]
    },
    {
     "name": "stderr",
     "output_type": "stream",
     "text": [
      "Epoch 17/30:  57%|█████▋    | 17/30 [00:27<00:20,  1.59s/it]"
     ]
    },
    {
     "name": "stdout",
     "output_type": "stream",
     "text": [
      "|         17         |     7078.3173      |     6796.2031      |\n"
     ]
    },
    {
     "name": "stderr",
     "output_type": "stream",
     "text": [
      "Epoch 18/30:  60%|██████    | 18/30 [00:28<00:19,  1.59s/it]"
     ]
    },
    {
     "name": "stdout",
     "output_type": "stream",
     "text": [
      "|         18         |     7077.6688      |     6796.0354      |\n"
     ]
    },
    {
     "name": "stderr",
     "output_type": "stream",
     "text": [
      "Epoch 19/30:  63%|██████▎   | 19/30 [00:30<00:17,  1.59s/it]"
     ]
    },
    {
     "name": "stdout",
     "output_type": "stream",
     "text": [
      "|         19         |     7076.8225      |     6826.5581      |\n"
     ]
    },
    {
     "name": "stderr",
     "output_type": "stream",
     "text": [
      "Epoch 20/30:  67%|██████▋   | 20/30 [00:32<00:15,  1.59s/it]"
     ]
    },
    {
     "name": "stdout",
     "output_type": "stream",
     "text": [
      "|         20         |     7074.3295      |     6796.9414      |\n"
     ]
    },
    {
     "name": "stderr",
     "output_type": "stream",
     "text": [
      "Epoch 21/30:  70%|███████   | 21/30 [00:33<00:14,  1.59s/it]"
     ]
    },
    {
     "name": "stdout",
     "output_type": "stream",
     "text": [
      "|         21         |     7069.3574      |     6799.0257      |\n"
     ]
    },
    {
     "name": "stderr",
     "output_type": "stream",
     "text": [
      "Epoch 22/30:  73%|███████▎  | 22/30 [00:35<00:12,  1.59s/it]"
     ]
    },
    {
     "name": "stdout",
     "output_type": "stream",
     "text": [
      "|         22         |     7074.2654      |     6808.0372      |\n"
     ]
    },
    {
     "name": "stderr",
     "output_type": "stream",
     "text": [
      "Epoch 23/30:  77%|███████▋  | 23/30 [00:36<00:11,  1.59s/it]"
     ]
    },
    {
     "name": "stdout",
     "output_type": "stream",
     "text": [
      "|         23         |     7074.3284      |     6829.8824      |\n"
     ]
    },
    {
     "name": "stderr",
     "output_type": "stream",
     "text": [
      "Epoch 24/30:  80%|████████  | 24/30 [00:38<00:09,  1.59s/it]"
     ]
    },
    {
     "name": "stdout",
     "output_type": "stream",
     "text": [
      "|         24         |     7063.7860      |     6799.5104      |\n"
     ]
    },
    {
     "name": "stderr",
     "output_type": "stream",
     "text": [
      "Epoch 25/30:  83%|████████▎ | 25/30 [00:40<00:07,  1.59s/it]"
     ]
    },
    {
     "name": "stdout",
     "output_type": "stream",
     "text": [
      "|         25         |     7069.9836      |     6863.5322      |\n"
     ]
    },
    {
     "name": "stderr",
     "output_type": "stream",
     "text": [
      "Epoch 26/30:  87%|████████▋ | 26/30 [00:41<00:06,  1.59s/it]"
     ]
    },
    {
     "name": "stdout",
     "output_type": "stream",
     "text": [
      "|         26         |     7065.5135      |     6799.6789      |\n"
     ]
    },
    {
     "name": "stderr",
     "output_type": "stream",
     "text": [
      "Epoch 27/30:  90%|█████████ | 27/30 [00:43<00:04,  1.59s/it]"
     ]
    },
    {
     "name": "stdout",
     "output_type": "stream",
     "text": [
      "|         27         |     7078.3649      |     6800.2554      |\n"
     ]
    },
    {
     "name": "stderr",
     "output_type": "stream",
     "text": [
      "Epoch 28/30:  93%|█████████▎| 28/30 [00:44<00:03,  1.59s/it]"
     ]
    },
    {
     "name": "stdout",
     "output_type": "stream",
     "text": [
      "|         28         |     7075.9891      |     6818.2506      |\n"
     ]
    },
    {
     "name": "stderr",
     "output_type": "stream",
     "text": [
      "Epoch 29/30:  97%|█████████▋| 29/30 [00:46<00:01,  1.59s/it]"
     ]
    },
    {
     "name": "stdout",
     "output_type": "stream",
     "text": [
      "|         29         |     7070.7574      |     6801.9500      |\n"
     ]
    },
    {
     "name": "stderr",
     "output_type": "stream",
     "text": [
      "Epoch 30/30: 100%|██████████| 30/30 [00:48<00:00,  1.60s/it]"
     ]
    },
    {
     "name": "stdout",
     "output_type": "stream",
     "text": [
      "|         30         |     7072.1065      |     6808.8069      |\n"
     ]
    },
    {
     "name": "stderr",
     "output_type": "stream",
     "text": [
      "\n"
     ]
    }
   ],
   "source": [
    "\n",
    "\n",
    "device = torch.device(\"cuda\" if torch.cuda.is_available() else \"cpu\")\n",
    "model = CNNResBlock().to(device)\n",
    "criterion = nn.MSELoss() \n",
    "optimizer = optim.Adam(model.parameters(), lr=0.0001)\n",
    "num_epochs = 30\n",
    "\n",
    "trained_model = training_monitor(device, model, optimizer, criterion, num_epochs, train_loader, test_loader)"
   ]
  },
  {
   "cell_type": "code",
   "execution_count": 11,
   "metadata": {},
   "outputs": [
    {
     "name": "stderr",
     "output_type": "stream",
     "text": [
      "/hetghome/khymon/miniconda3/envs/tadnn/lib/python3.11/site-packages/torch/nn/modules/loss.py:538: UserWarning: Using a target size (torch.Size([10331])) that is different to the input size (torch.Size([10331, 1])). This will likely lead to incorrect results due to broadcasting. Please ensure they have the same size.\n",
      "  return F.mse_loss(input, target, reduction=self.reduction)\n"
     ]
    },
    {
     "name": "stdout",
     "output_type": "stream",
     "text": [
      "Test Loss: 6816.5708\n"
     ]
    },
    {
     "data": {
      "image/png": "[encoded data removed]",
      "text/plain": [
       "<Figure size 640x480 with 1 Axes>"
      ]
     },
     "metadata": {},
     "output_type": "display_data"
    }
   ],
   "source": [
    "test_outputs = evaluate_cosmic_ray_model(model, X_test, y_test, criterion)\n",
    "\n",
    "# Optional: plot the predicted vs. actual energy values\n",
    "\n",
    "plt.scatter(y_test.cpu(), test_outputs.cpu())\n",
    "plt.xlabel('Actual Energy / EeV')\n",
    "plt.xscale('log')\n",
    "plt.yscale('log')\n",
    "plt.ylim(5e-1,4e2)\n",
    "plt.ylabel('Predicted Energy / EeV')\n",
    "plt.title('Predicted vs. Actual Energy (Test Set)')\n",
    "plt.show()"
   ]
  },
  {
   "cell_type": "markdown",
   "metadata": {},
   "source": [
    "The model is not optimal for our problem. The prediction is the same for each event. Hence, the network does not learn, which can be observed in the loss function figure. \n",
    "\n",
    "Potential reasons:\n",
    "* non-optimal network architecture\n",
    "* non-optimal learning rate\n",
    "* network might not be complex enough\n",
    "* too few events for training"
   ]
  },
  {
   "cell_type": "markdown",
   "metadata": {},
   "source": [
    "b) Multilayer-perceptron"
   ]
  },
  {
   "cell_type": "code",
   "execution_count": 12,
   "metadata": {},
   "outputs": [],
   "source": [
    "class MLP(nn.Module):\n",
    "    def __init__(self):\n",
    "        super(MLP, self).__init__()\n",
    "        \n",
    "        # Define the architecture of the MLP\n",
    "        self.fc1 = nn.Linear(2 * 7 * 7, 256)  # Flattened input: [2, 7, 7] -> 2*7*7\n",
    "        self.relu1 = nn.ReLU()\n",
    "        self.fc2 = nn.Linear(256, 128)\n",
    "        self.relu2 = nn.ReLU()\n",
    "        self.fc3 = nn.Linear(128, 64)\n",
    "        self.relu3 = nn.ReLU()\n",
    "        self.fc4 = nn.Linear(64, 1)  # Output: single energy value\n",
    "\n",
    "    def forward(self, x):\n",
    "        x = x.view(x.size(0), -1)  # Flatten input from [batch_size, 2, 7, 7] to [batch_size, 2*7*7]\n",
    "        x = self.fc1(x)\n",
    "        x = self.relu1(x)\n",
    "        x = self.fc2(x)\n",
    "        x = self.relu2(x)\n",
    "        x = self.fc3(x)\n",
    "        x = self.relu3(x)\n",
    "        x = self.fc4(x)  # Final layer (output energy prediction)\n",
    "        return x"
   ]
  },
  {
   "cell_type": "code",
   "execution_count": 13,
   "metadata": {},
   "outputs": [
    {
     "name": "stderr",
     "output_type": "stream",
     "text": [
      "  0%|          | 0/30 [00:00<?, ?it/s]"
     ]
    },
    {
     "data": {
      "image/png": "[encoded data removed]",
      "text/plain": [
       "<Figure size 1000x400 with 1 Axes>"
      ]
     },
     "metadata": {},
     "output_type": "display_data"
    },
    {
     "data": {},
     "metadata": {},
     "output_type": "display_data"
    },
    {
     "name": "stdout",
     "output_type": "stream",
     "text": [
      "|       Epoch        |     Train loss     |  Validation loss   |\n",
      "________________________________________________________________\n"
     ]
    },
    {
     "name": "stderr",
     "output_type": "stream",
     "text": [
      "Epoch 1/30:   3%|▎         | 1/30 [00:00<00:19,  1.46it/s]"
     ]
    },
    {
     "name": "stdout",
     "output_type": "stream",
     "text": [
      "|         1          |     8603.0100      |     7029.9513      |\n"
     ]
    },
    {
     "name": "stderr",
     "output_type": "stream",
     "text": [
      "Epoch 2/30:   7%|▋         | 2/30 [00:01<00:20,  1.36it/s]"
     ]
    },
    {
     "name": "stdout",
     "output_type": "stream",
     "text": [
      "|         2          |     7246.5571      |     6882.1311      |\n"
     ]
    },
    {
     "name": "stderr",
     "output_type": "stream",
     "text": [
      "Epoch 3/30:  10%|█         | 3/30 [00:02<00:20,  1.33it/s]"
     ]
    },
    {
     "name": "stdout",
     "output_type": "stream",
     "text": [
      "|         3          |     7176.0656      |     6850.7641      |\n"
     ]
    },
    {
     "name": "stderr",
     "output_type": "stream",
     "text": [
      "Epoch 4/30:  13%|█▎        | 4/30 [00:02<00:19,  1.32it/s]"
     ]
    },
    {
     "name": "stdout",
     "output_type": "stream",
     "text": [
      "|         4          |     7148.2717      |     6830.2113      |\n"
     ]
    },
    {
     "name": "stderr",
     "output_type": "stream",
     "text": [
      "Epoch 5/30:  17%|█▋        | 5/30 [00:03<00:19,  1.31it/s]"
     ]
    },
    {
     "name": "stdout",
     "output_type": "stream",
     "text": [
      "|         5          |     7134.8618      |     6830.2394      |\n"
     ]
    },
    {
     "name": "stderr",
     "output_type": "stream",
     "text": [
      "Epoch 6/30:  20%|██        | 6/30 [00:04<00:18,  1.30it/s]"
     ]
    },
    {
     "name": "stdout",
     "output_type": "stream",
     "text": [
      "|         6          |     7127.3286      |     6815.0030      |\n"
     ]
    },
    {
     "name": "stderr",
     "output_type": "stream",
     "text": [
      "Epoch 7/30:  23%|██▎       | 7/30 [00:05<00:17,  1.30it/s]"
     ]
    },
    {
     "name": "stdout",
     "output_type": "stream",
     "text": [
      "|         7          |     7121.2560      |     6826.4425      |\n"
     ]
    },
    {
     "name": "stderr",
     "output_type": "stream",
     "text": [
      "Epoch 8/30:  27%|██▋       | 8/30 [00:06<00:16,  1.30it/s]"
     ]
    },
    {
     "name": "stdout",
     "output_type": "stream",
     "text": [
      "|         8          |     7117.8323      |     6813.2042      |\n"
     ]
    },
    {
     "name": "stderr",
     "output_type": "stream",
     "text": [
      "Epoch 9/30:  30%|███       | 9/30 [00:06<00:16,  1.30it/s]"
     ]
    },
    {
     "name": "stdout",
     "output_type": "stream",
     "text": [
      "|         9          |     7114.1565      |     6813.4641      |\n"
     ]
    },
    {
     "name": "stderr",
     "output_type": "stream",
     "text": [
      "Epoch 10/30:  33%|███▎      | 10/30 [00:07<00:15,  1.30it/s]"
     ]
    },
    {
     "name": "stdout",
     "output_type": "stream",
     "text": [
      "|         10         |     7116.0757      |     6807.0282      |\n"
     ]
    },
    {
     "name": "stderr",
     "output_type": "stream",
     "text": [
      "Epoch 11/30:  37%|███▋      | 11/30 [00:08<00:14,  1.30it/s]"
     ]
    },
    {
     "name": "stdout",
     "output_type": "stream",
     "text": [
      "|         11         |     7114.3635      |     6800.2174      |\n"
     ]
    },
    {
     "name": "stderr",
     "output_type": "stream",
     "text": [
      "Epoch 12/30:  40%|████      | 12/30 [00:09<00:13,  1.30it/s]"
     ]
    },
    {
     "name": "stdout",
     "output_type": "stream",
     "text": [
      "|         12         |     7110.6273      |     6809.0012      |\n"
     ]
    },
    {
     "name": "stderr",
     "output_type": "stream",
     "text": [
      "Epoch 13/30:  43%|████▎     | 13/30 [00:09<00:13,  1.30it/s]"
     ]
    },
    {
     "name": "stdout",
     "output_type": "stream",
     "text": [
      "|         13         |     7109.9196      |     6806.9809      |\n"
     ]
    },
    {
     "name": "stderr",
     "output_type": "stream",
     "text": [
      "Epoch 14/30:  47%|████▋     | 14/30 [00:10<00:12,  1.25it/s]"
     ]
    },
    {
     "name": "stdout",
     "output_type": "stream",
     "text": [
      "|         14         |     7111.2983      |     6808.6290      |\n"
     ]
    },
    {
     "name": "stderr",
     "output_type": "stream",
     "text": [
      "Epoch 15/30:  50%|█████     | 15/30 [00:11<00:11,  1.26it/s]"
     ]
    },
    {
     "name": "stdout",
     "output_type": "stream",
     "text": [
      "|         15         |     7112.0811      |     6802.6553      |\n"
     ]
    },
    {
     "name": "stderr",
     "output_type": "stream",
     "text": [
      "Epoch 16/30:  53%|█████▎    | 16/30 [00:12<00:10,  1.28it/s]"
     ]
    },
    {
     "name": "stdout",
     "output_type": "stream",
     "text": [
      "|         16         |     7111.3862      |     6798.6615      |\n"
     ]
    },
    {
     "name": "stderr",
     "output_type": "stream",
     "text": [
      "Epoch 17/30:  57%|█████▋    | 17/30 [00:13<00:09,  1.31it/s]"
     ]
    },
    {
     "name": "stdout",
     "output_type": "stream",
     "text": [
      "|         17         |     7108.1006      |     6825.3133      |\n"
     ]
    },
    {
     "name": "stderr",
     "output_type": "stream",
     "text": [
      "Epoch 18/30:  60%|██████    | 18/30 [00:13<00:09,  1.33it/s]"
     ]
    },
    {
     "name": "stdout",
     "output_type": "stream",
     "text": [
      "|         18         |     7109.8739      |     6798.0914      |\n"
     ]
    },
    {
     "name": "stderr",
     "output_type": "stream",
     "text": [
      "Epoch 19/30:  63%|██████▎   | 19/30 [00:14<00:08,  1.34it/s]"
     ]
    },
    {
     "name": "stdout",
     "output_type": "stream",
     "text": [
      "|         19         |     7110.7039      |     6814.4073      |\n"
     ]
    },
    {
     "name": "stderr",
     "output_type": "stream",
     "text": [
      "Epoch 20/30:  67%|██████▋   | 20/30 [00:15<00:07,  1.35it/s]"
     ]
    },
    {
     "name": "stdout",
     "output_type": "stream",
     "text": [
      "|         20         |     7109.7923      |     6807.0671      |\n"
     ]
    },
    {
     "name": "stderr",
     "output_type": "stream",
     "text": [
      "Epoch 21/30:  70%|███████   | 21/30 [00:15<00:06,  1.35it/s]"
     ]
    },
    {
     "name": "stdout",
     "output_type": "stream",
     "text": [
      "|         21         |     7108.1938      |     6813.7581      |\n"
     ]
    },
    {
     "name": "stderr",
     "output_type": "stream",
     "text": [
      "Epoch 22/30:  73%|███████▎  | 22/30 [00:16<00:05,  1.36it/s]"
     ]
    },
    {
     "name": "stdout",
     "output_type": "stream",
     "text": [
      "|         22         |     7107.9109      |     6803.0923      |\n"
     ]
    },
    {
     "name": "stderr",
     "output_type": "stream",
     "text": [
      "Epoch 23/30:  77%|███████▋  | 23/30 [00:17<00:05,  1.37it/s]"
     ]
    },
    {
     "name": "stdout",
     "output_type": "stream",
     "text": [
      "|         23         |     7111.1675      |     6800.9049      |\n"
     ]
    },
    {
     "name": "stderr",
     "output_type": "stream",
     "text": [
      "Epoch 24/30:  80%|████████  | 24/30 [00:18<00:04,  1.37it/s]"
     ]
    },
    {
     "name": "stdout",
     "output_type": "stream",
     "text": [
      "|         24         |     7108.1937      |     6826.0181      |\n"
     ]
    },
    {
     "name": "stderr",
     "output_type": "stream",
     "text": [
      "Epoch 25/30:  83%|████████▎ | 25/30 [00:18<00:03,  1.37it/s]"
     ]
    },
    {
     "name": "stdout",
     "output_type": "stream",
     "text": [
      "|         25         |     7106.4729      |     6797.1435      |\n"
     ]
    },
    {
     "name": "stderr",
     "output_type": "stream",
     "text": [
      "Epoch 26/30:  87%|████████▋ | 26/30 [00:19<00:02,  1.37it/s]"
     ]
    },
    {
     "name": "stdout",
     "output_type": "stream",
     "text": [
      "|         26         |     7108.8547      |     6799.0336      |\n"
     ]
    },
    {
     "name": "stderr",
     "output_type": "stream",
     "text": [
      "Epoch 27/30:  90%|█████████ | 27/30 [00:20<00:02,  1.37it/s]"
     ]
    },
    {
     "name": "stdout",
     "output_type": "stream",
     "text": [
      "|         27         |     7106.6199      |     6813.5951      |\n"
     ]
    },
    {
     "name": "stderr",
     "output_type": "stream",
     "text": [
      "Epoch 28/30:  93%|█████████▎| 28/30 [00:21<00:01,  1.37it/s]"
     ]
    },
    {
     "name": "stdout",
     "output_type": "stream",
     "text": [
      "|         28         |     7109.0289      |     6819.4319      |\n"
     ]
    },
    {
     "name": "stderr",
     "output_type": "stream",
     "text": [
      "Epoch 29/30:  97%|█████████▋| 29/30 [00:21<00:00,  1.36it/s]"
     ]
    },
    {
     "name": "stdout",
     "output_type": "stream",
     "text": [
      "|         29         |     7109.7194      |     6801.0396      |\n"
     ]
    },
    {
     "name": "stderr",
     "output_type": "stream",
     "text": [
      "Epoch 30/30: 100%|██████████| 30/30 [00:22<00:00,  1.33it/s]"
     ]
    },
    {
     "name": "stdout",
     "output_type": "stream",
     "text": [
      "|         30         |     7107.6122      |     6802.7902      |\n"
     ]
    },
    {
     "name": "stderr",
     "output_type": "stream",
     "text": [
      "\n"
     ]
    }
   ],
   "source": [
    "device = torch.device(\"cuda\" if torch.cuda.is_available() else \"cpu\")\n",
    "model = MLP().to(device)\n",
    "criterion = nn.MSELoss() \n",
    "optimizer = optim.Adam(model.parameters(), lr=0.0001)\n",
    "num_epochs = 30\n",
    "\n",
    "trained_model = training_monitor(device, model, optimizer, criterion, num_epochs, train_loader, test_loader)"
   ]
  },
  {
   "cell_type": "code",
   "execution_count": 14,
   "metadata": {},
   "outputs": [
    {
     "name": "stdout",
     "output_type": "stream",
     "text": [
      "Test Loss: 6811.9878\n"
     ]
    },
    {
     "data": {
      "image/png": "[encoded data removed]",
      "text/plain": [
       "<Figure size 640x480 with 1 Axes>"
      ]
     },
     "metadata": {},
     "output_type": "display_data"
    }
   ],
   "source": [
    "test_outputs = evaluate_cosmic_ray_model(model, X_test, y_test, criterion)\n",
    "\n",
    "# Optional: plot the predicted vs. actual energy values\n",
    "\n",
    "plt.scatter(y_test.cpu(), test_outputs.cpu())\n",
    "plt.xlabel('Actual Energy / EeV')\n",
    "plt.xscale('log')\n",
    "plt.yscale('log')\n",
    "plt.ylim(5e-1,4e2)\n",
    "plt.ylabel('Predicted Energy / EeV')\n",
    "plt.title('Predicted vs. Actual Energy (Test Set)')\n",
    "plt.show()"
   ]
  },
  {
   "cell_type": "markdown",
   "metadata": {},
   "source": [
    "The prediction is still constant and the model does not learn."
   ]
  },
  {
   "cell_type": "markdown",
   "metadata": {},
   "source": [
    "c) Simple CNN"
   ]
  },
  {
   "cell_type": "code",
   "execution_count": 15,
   "metadata": {},
   "outputs": [],
   "source": [
    "class CosmicRayCNN(nn.Module):\n",
    "    def __init__(self):\n",
    "        super(CosmicRayCNN, self).__init__()\n",
    "        \n",
    "        # Define a 2D convolutional layer\n",
    "        self.conv1 = nn.Conv2d(in_channels=2, out_channels=16, kernel_size=3, stride=1, padding=1)\n",
    "        self.conv2 = nn.Conv2d(in_channels=16, out_channels=32, kernel_size=3, stride=1, padding=1)\n",
    "        \n",
    "        # Fully connected layers after convolution\n",
    "        self.fc1 = nn.Linear(32 * 7 * 7, 64)  # 32 channels, 7x7 image after conv layers\n",
    "        self.fc2 = nn.Linear(64, 1)  # Output layer for regression (1 target: energy)\n",
    "\n",
    "    def forward(self, x):\n",
    "        # Convolutional layers with ReLU activations\n",
    "        x = torch.relu(self.conv1(x))\n",
    "        x = torch.relu(self.conv2(x))\n",
    "        \n",
    "        # Flatten the output from conv layers to feed into fully connected layers\n",
    "        x = x.view(x.size(0), -1)  # Reshape to (batch_size, 32*7*7)\n",
    "        \n",
    "        # Fully connected layers\n",
    "        x = torch.relu(self.fc1(x))\n",
    "        x = self.fc2(x)  # Output layer (no activation for regression)\n",
    "        \n",
    "        return x.squeeze()"
   ]
  },
  {
   "cell_type": "code",
   "execution_count": 16,
   "metadata": {},
   "outputs": [
    {
     "name": "stderr",
     "output_type": "stream",
     "text": [
      "  0%|          | 0/30 [00:00<?, ?it/s]"
     ]
    },
    {
     "data": {
      "image/png": "[encoded data removed]",
      "text/plain": [
       "<Figure size 1000x400 with 1 Axes>"
      ]
     },
     "metadata": {},
     "output_type": "display_data"
    },
    {
     "data": {},
     "metadata": {},
     "output_type": "display_data"
    },
    {
     "name": "stdout",
     "output_type": "stream",
     "text": [
      "|       Epoch        |     Train loss     |  Validation loss   |\n",
      "________________________________________________________________\n"
     ]
    },
    {
     "name": "stderr",
     "output_type": "stream",
     "text": [
      "Epoch 1/30:   3%|▎         | 1/30 [00:00<00:21,  1.34it/s]"
     ]
    },
    {
     "name": "stdout",
     "output_type": "stream",
     "text": [
      "|         1          |     6677.8831      |     4618.7139      |\n"
     ]
    },
    {
     "name": "stderr",
     "output_type": "stream",
     "text": [
      "Epoch 2/30:   7%|▋         | 2/30 [00:01<00:21,  1.29it/s]"
     ]
    },
    {
     "name": "stdout",
     "output_type": "stream",
     "text": [
      "|         2          |     4521.7777      |     4021.6343      |\n"
     ]
    },
    {
     "name": "stderr",
     "output_type": "stream",
     "text": [
      "Epoch 3/30:  10%|█         | 3/30 [00:02<00:21,  1.27it/s]"
     ]
    },
    {
     "name": "stdout",
     "output_type": "stream",
     "text": [
      "|         3          |     4191.7634      |     3796.5626      |\n"
     ]
    },
    {
     "name": "stderr",
     "output_type": "stream",
     "text": [
      "Epoch 4/30:  13%|█▎        | 4/30 [00:03<00:20,  1.26it/s]"
     ]
    },
    {
     "name": "stdout",
     "output_type": "stream",
     "text": [
      "|         4          |     3997.3572      |     3607.5935      |\n"
     ]
    },
    {
     "name": "stderr",
     "output_type": "stream",
     "text": [
      "Epoch 5/30:  17%|█▋        | 5/30 [00:03<00:19,  1.25it/s]"
     ]
    },
    {
     "name": "stdout",
     "output_type": "stream",
     "text": [
      "|         5          |     3807.6593      |     3445.4554      |\n"
     ]
    },
    {
     "name": "stderr",
     "output_type": "stream",
     "text": [
      "Epoch 6/30:  20%|██        | 6/30 [00:04<00:19,  1.25it/s]"
     ]
    },
    {
     "name": "stdout",
     "output_type": "stream",
     "text": [
      "|         6          |     3667.3557      |     3344.9266      |\n"
     ]
    },
    {
     "name": "stderr",
     "output_type": "stream",
     "text": [
      "Epoch 7/30:  23%|██▎       | 7/30 [00:05<00:18,  1.25it/s]"
     ]
    },
    {
     "name": "stdout",
     "output_type": "stream",
     "text": [
      "|         7          |     3567.5917      |     3263.4476      |\n"
     ]
    },
    {
     "name": "stderr",
     "output_type": "stream",
     "text": [
      "Epoch 8/30:  27%|██▋       | 8/30 [00:06<00:17,  1.25it/s]"
     ]
    },
    {
     "name": "stdout",
     "output_type": "stream",
     "text": [
      "|         8          |     3473.8951      |     3172.3492      |\n"
     ]
    },
    {
     "name": "stderr",
     "output_type": "stream",
     "text": [
      "Epoch 9/30:  30%|███       | 9/30 [00:07<00:16,  1.24it/s]"
     ]
    },
    {
     "name": "stdout",
     "output_type": "stream",
     "text": [
      "|         9          |     3369.1649      |     3071.0695      |\n"
     ]
    },
    {
     "name": "stderr",
     "output_type": "stream",
     "text": [
      "Epoch 10/30:  33%|███▎      | 10/30 [00:07<00:16,  1.24it/s]"
     ]
    },
    {
     "name": "stdout",
     "output_type": "stream",
     "text": [
      "|         10         |     3251.2614      |     2963.6141      |\n"
     ]
    },
    {
     "name": "stderr",
     "output_type": "stream",
     "text": [
      "Epoch 11/30:  37%|███▋      | 11/30 [00:08<00:15,  1.24it/s]"
     ]
    },
    {
     "name": "stdout",
     "output_type": "stream",
     "text": [
      "|         11         |     3134.0166      |     2866.4947      |\n"
     ]
    },
    {
     "name": "stderr",
     "output_type": "stream",
     "text": [
      "Epoch 12/30:  40%|████      | 12/30 [00:09<00:14,  1.24it/s]"
     ]
    },
    {
     "name": "stdout",
     "output_type": "stream",
     "text": [
      "|         12         |     3030.0112      |     2776.2051      |\n"
     ]
    },
    {
     "name": "stderr",
     "output_type": "stream",
     "text": [
      "Epoch 13/30:  43%|████▎     | 13/30 [00:10<00:13,  1.24it/s]"
     ]
    },
    {
     "name": "stdout",
     "output_type": "stream",
     "text": [
      "|         13         |     2944.6323      |     2720.7208      |\n"
     ]
    },
    {
     "name": "stderr",
     "output_type": "stream",
     "text": [
      "Epoch 14/30:  47%|████▋     | 14/30 [00:11<00:12,  1.24it/s]"
     ]
    },
    {
     "name": "stdout",
     "output_type": "stream",
     "text": [
      "|         14         |     2872.5882      |     2647.7300      |\n"
     ]
    },
    {
     "name": "stderr",
     "output_type": "stream",
     "text": [
      "Epoch 15/30:  50%|█████     | 15/30 [00:12<00:12,  1.24it/s]"
     ]
    },
    {
     "name": "stdout",
     "output_type": "stream",
     "text": [
      "|         15         |     2810.2671      |     2589.5509      |\n"
     ]
    },
    {
     "name": "stderr",
     "output_type": "stream",
     "text": [
      "Epoch 16/30:  53%|█████▎    | 16/30 [00:12<00:11,  1.24it/s]"
     ]
    },
    {
     "name": "stdout",
     "output_type": "stream",
     "text": [
      "|         16         |     2760.6788      |     2561.6460      |\n"
     ]
    },
    {
     "name": "stderr",
     "output_type": "stream",
     "text": [
      "Epoch 17/30:  57%|█████▋    | 17/30 [00:13<00:10,  1.25it/s]"
     ]
    },
    {
     "name": "stdout",
     "output_type": "stream",
     "text": [
      "|         17         |     2718.2281      |     2509.0182      |\n"
     ]
    },
    {
     "name": "stderr",
     "output_type": "stream",
     "text": [
      "Epoch 18/30:  60%|██████    | 18/30 [00:14<00:09,  1.23it/s]"
     ]
    },
    {
     "name": "stdout",
     "output_type": "stream",
     "text": [
      "|         18         |     2687.9056      |     2489.2990      |\n"
     ]
    },
    {
     "name": "stderr",
     "output_type": "stream",
     "text": [
      "Epoch 19/30:  63%|██████▎   | 19/30 [00:15<00:08,  1.23it/s]"
     ]
    },
    {
     "name": "stdout",
     "output_type": "stream",
     "text": [
      "|         19         |     2654.9416      |     2457.9569      |\n"
     ]
    },
    {
     "name": "stderr",
     "output_type": "stream",
     "text": [
      "Epoch 20/30:  67%|██████▋   | 20/30 [00:16<00:08,  1.23it/s]"
     ]
    },
    {
     "name": "stdout",
     "output_type": "stream",
     "text": [
      "|         20         |     2625.7016      |     2445.5986      |\n"
     ]
    },
    {
     "name": "stderr",
     "output_type": "stream",
     "text": [
      "Epoch 21/30:  70%|███████   | 21/30 [00:16<00:07,  1.22it/s]"
     ]
    },
    {
     "name": "stdout",
     "output_type": "stream",
     "text": [
      "|         21         |     2602.8746      |     2422.3749      |\n"
     ]
    },
    {
     "name": "stderr",
     "output_type": "stream",
     "text": [
      "Epoch 22/30:  73%|███████▎  | 22/30 [00:17<00:06,  1.21it/s]"
     ]
    },
    {
     "name": "stdout",
     "output_type": "stream",
     "text": [
      "|         22         |     2582.2633      |     2387.8461      |\n"
     ]
    },
    {
     "name": "stderr",
     "output_type": "stream",
     "text": [
      "Epoch 23/30:  77%|███████▋  | 23/30 [00:18<00:05,  1.20it/s]"
     ]
    },
    {
     "name": "stdout",
     "output_type": "stream",
     "text": [
      "|         23         |     2565.6377      |     2387.8152      |\n"
     ]
    },
    {
     "name": "stderr",
     "output_type": "stream",
     "text": [
      "Epoch 24/30:  80%|████████  | 24/30 [00:19<00:05,  1.20it/s]"
     ]
    },
    {
     "name": "stdout",
     "output_type": "stream",
     "text": [
      "|         24         |     2549.9702      |     2380.8865      |\n"
     ]
    },
    {
     "name": "stderr",
     "output_type": "stream",
     "text": [
      "Epoch 25/30:  83%|████████▎ | 25/30 [00:20<00:04,  1.15it/s]"
     ]
    },
    {
     "name": "stdout",
     "output_type": "stream",
     "text": [
      "|         25         |     2535.6760      |     2383.0312      |\n"
     ]
    },
    {
     "name": "stderr",
     "output_type": "stream",
     "text": [
      "Epoch 26/30:  87%|████████▋ | 26/30 [00:21<00:03,  1.16it/s]"
     ]
    },
    {
     "name": "stdout",
     "output_type": "stream",
     "text": [
      "|         26         |     2524.3276      |     2337.8866      |\n"
     ]
    },
    {
     "name": "stderr",
     "output_type": "stream",
     "text": [
      "Epoch 27/30:  90%|█████████ | 27/30 [00:22<00:02,  1.16it/s]"
     ]
    },
    {
     "name": "stdout",
     "output_type": "stream",
     "text": [
      "|         27         |     2515.1043      |     2353.7212      |\n"
     ]
    },
    {
     "name": "stderr",
     "output_type": "stream",
     "text": [
      "Epoch 28/30:  93%|█████████▎| 28/30 [00:22<00:01,  1.17it/s]"
     ]
    },
    {
     "name": "stdout",
     "output_type": "stream",
     "text": [
      "|         28         |     2507.2107      |     2334.6828      |\n"
     ]
    },
    {
     "name": "stderr",
     "output_type": "stream",
     "text": [
      "Epoch 29/30:  97%|█████████▋| 29/30 [00:23<00:00,  1.17it/s]"
     ]
    },
    {
     "name": "stdout",
     "output_type": "stream",
     "text": [
      "|         29         |     2497.3517      |     2310.0851      |\n"
     ]
    },
    {
     "name": "stderr",
     "output_type": "stream",
     "text": [
      "Epoch 30/30: 100%|██████████| 30/30 [00:24<00:00,  1.21it/s]"
     ]
    },
    {
     "name": "stdout",
     "output_type": "stream",
     "text": [
      "|         30         |     2491.7599      |     2310.4965      |\n"
     ]
    },
    {
     "name": "stderr",
     "output_type": "stream",
     "text": [
      "\n"
     ]
    }
   ],
   "source": [
    "device = torch.device(\"cuda\" if torch.cuda.is_available() else \"cpu\")\n",
    "model = CosmicRayCNN().to(device)\n",
    "criterion = nn.MSELoss() \n",
    "optimizer = optim.Adam(model.parameters(), lr=0.0001)\n",
    "num_epochs = 30\n",
    "\n",
    "trained_model = training_monitor(device, model, optimizer, criterion, num_epochs, train_loader, test_loader)"
   ]
  },
  {
   "cell_type": "code",
   "execution_count": 17,
   "metadata": {},
   "outputs": [
    {
     "name": "stdout",
     "output_type": "stream",
     "text": [
      "Test Loss: 2311.8533\n"
     ]
    },
    {
     "data": {
      "image/png": "[encoded data removed]",
      "text/plain": [
       "<Figure size 640x480 with 1 Axes>"
      ]
     },
     "metadata": {},
     "output_type": "display_data"
    }
   ],
   "source": [
    "test_outputs = evaluate_cosmic_ray_model(model, X_test, y_test, criterion)\n",
    "\n",
    "# Optional: plot the predicted vs. actual energy values\n",
    "\n",
    "plt.scatter(y_test.cpu(), test_outputs.cpu())\n",
    "plt.xlabel('Actual Energy / EeV')\n",
    "plt.xscale('log')\n",
    "plt.yscale('log')\n",
    "plt.ylim(5e-1,4e2)\n",
    "plt.ylabel('Predicted Energy / EeV')\n",
    "plt.title('Predicted vs. Actual Energy (Test Set)')\n",
    "plt.show()"
   ]
  },
  {
   "cell_type": "markdown",
   "metadata": {},
   "source": [
    "This model predicts the energy better than the previous one. We can observe a linear trend, but still see many wrong predictions. More time and complex models are required to solve real-life problems, such as the energy reconstruction of a cosmic ray experiment."
   ]
  },
  {
   "cell_type": "markdown",
   "metadata": {},
   "source": [
    "#### Take-home for application on real data\n",
    "\n",
    "Today we only trained a network on simulated data and will not apply such a network to real, unknown data. Before a model can be applied to real-life data, we need to do certain robustness checks to account for deviations of the real-life physics to our simulation (what we know and can predict). \n",
    "\n",
    "* If the training on simulated data works sufficiently well, we need to ensure the model is applicable to data that can deviate within a certain range from the simulation. This is often tested by simulating a quantity from different models or artificial variation within certain value ranges. The model should perform sufficiently well on these simulated data sets as well.\n",
    "\n",
    "* The data-simulation-agreement needs to be sufficiently well for the estimator quantities. Deviations in the feature can lead to wrong predictions.\n",
    "\n",
    "* Proper handling of training, test and validation set. Hyperparameter of a model are optimized using a second set that tests the performs. At the very last step, the optimized model is evaluated on a third set.\n"
   ]
  },
  {
   "cell_type": "markdown",
   "metadata": {},
   "source": []
  }
 ],
 "metadata": {
  "kernelspec": {
   "display_name": "tadnn",
   "language": "python",
   "name": "python3"
  },
  "language_info": {
   "codemirror_mode": {
    "name": "ipython",
    "version": 3
   },
   "file_extension": ".py",
   "mimetype": "text/x-python",
   "name": "python",
   "nbconvert_exporter": "python",
   "pygments_lexer": "ipython3",
   "version": "3.11.9"
  }
 },
 "nbformat": 4,
 "nbformat_minor": 2
}
